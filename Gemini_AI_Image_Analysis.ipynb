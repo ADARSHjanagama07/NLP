{
  "nbformat": 4,
  "nbformat_minor": 0,
  "metadata": {
    "colab": {
      "provenance": []
    },
    "kernelspec": {
      "name": "python3",
      "display_name": "Python 3"
    },
    "language_info": {
      "name": "python"
    }
  },
  "cells": [
    {
      "cell_type": "code",
      "execution_count": 1,
      "metadata": {
        "id": "uyG6T-InW213"
      },
      "outputs": [],
      "source": [
        "import google.generativeai as genai\n",
        "from google.colab import userdata\n",
        "\n",
        "GOOGLE_API_KEY=userdata.get('GOOGLE_API_KEY')\n",
        "genai.configure(api_key=GOOGLE_API_KEY)"
      ]
    },
    {
      "cell_type": "code",
      "source": [
        "import pathlib\n",
        "import textwrap\n",
        "from IPython.display import display, Markdown\n",
        "def to_markdown(text):\n",
        "  text = text.replace('.','*')\n",
        "  return Markdown(textwrap.indent(text,'>',predicate=lambda _:True))"
      ],
      "metadata": {
        "id": "gmNvDFYPY_ta"
      },
      "execution_count": 8,
      "outputs": []
    },
    {
      "cell_type": "code",
      "source": [
        "import PIL.Image\n",
        "img = PIL.Image.open('image1.jpg')\n",
        "img\n",
        "model = genai.GenerativeModel('gemini-1.5-flash')\n",
        "response = model.generate_content([\"Write a short, engaging blog post based on this picture. It should include a description of the meal in the photo and talk about my journey meal prepping.\", img],\n",
        "stream=True)\n",
        "response.resolve()\n"
      ],
      "metadata": {
        "id": "yKweTjB4bx-W"
      },
      "execution_count": 14,
      "outputs": []
    },
    {
      "cell_type": "code",
      "source": [
        "to_markdown(response.text)"
      ],
      "metadata": {
        "colab": {
          "base_uri": "https://localhost:8080/",
          "height": 443
        },
        "id": "T-c7JyLKdVHj",
        "outputId": "72bb3a00-0cf1-49dd-d9dc-4fbb318e60c8"
      },
      "execution_count": 12,
      "outputs": [
        {
          "output_type": "execute_result",
          "data": {
            "text/plain": [
              "<IPython.core.display.Markdown object>"
            ],
            "text/markdown": ">## My Meal Prep Journey: From Chaos to Calm (and Delicious!)\n>\n>Look at these beauties!  That's my lunch – and dinner – sorted for the next couple of days*  Two glass containers brimming with deliciousness: fluffy white rice as a base, topped with tender pieces of teriyaki chicken, vibrant roasted carrots and red peppers, and a generous helping of steamed broccoli* It's healthy, satisfying, and best of all, *prepped ahead**\n>\n>For years, my lunch routine was a chaotic scramble of last-minute decisions, resulting in either sad desk lunches or expensive takeout*  I knew meal prepping was the answer, but the idea felt daunting*  Where to start?  How to avoid boredom?  How to actually *stick* to it?\n>\n>My journey started small*  I began by prepping just one component at a time – maybe roasting a batch of veggies one Sunday*  Then I added cooking a large portion of chicken*  Slowly, I built up a system that worked for me*  Now, I dedicate a couple of hours each week to prepping meals, and it’s honestly changed my life*  \n>\n>The benefits are undeniable*  I'm eating healthier, saving money, and reducing stress during my already busy week*  Plus, there’s a real sense of accomplishment in having healthy, delicious meals ready to go*  No more impulse snacking or rushed decisions!\n>\n>So, if you're thinking about starting your own meal prep journey, just take a deep breath and start small*  You don't need to become a culinary ninja overnight*  Even prepping one meal a week is a huge step forward* And trust me, the payoff is worth it*  Your future self (and your stomach) will thank you!\n"
          },
          "metadata": {},
          "execution_count": 12
        }
      ]
    },
    {
      "cell_type": "code",
      "source": [
        "response = model.generate_content([\"Generate an accurate caption for this image.\", img])\n",
        "print(response.text)"
      ],
      "metadata": {
        "colab": {
          "base_uri": "https://localhost:8080/",
          "height": 401
        },
        "id": "S4RhIeIteGD2",
        "outputId": "0a85d5a2-4463-4d01-e8b0-76c3d76273ed"
      },
      "execution_count": 15,
      "outputs": [
        {
          "output_type": "stream",
          "name": "stdout",
          "text": [
            "Here are a few caption options for the image:\n",
            "\n",
            "**Option 1 (Simple & Descriptive):**\n",
            "\n",
            "> Healthy and delicious meal prep!  Chicken and broccoli with rice.\n",
            "\n",
            "**Option 2 (More Engaging):**\n",
            "\n",
            "> Lunch goals!  These chicken and veggie bowls are packed with flavor and ready to go.  Perfect for busy weeknights. #mealprep #healthyfood #lunchideas\n",
            "\n",
            "**Option 3 (Focus on Convenience):**\n",
            "\n",
            "> Easy weeknight dinners made simple with this delicious and healthy meal prep. #mealprepsunday #healthyeating #convenientmeals\n",
            "\n",
            "**Option 4 (Question to Engage Audience):**\n",
            "\n",
            "> What's your favorite healthy meal prep recipe?  These chicken and broccoli bowls are definitely a contender! #mealprepinspiration #healthyrecipes #foodie\n",
            "\n",
            "\n",
            "The best option will depend on the overall tone and purpose of your post.\n",
            "\n"
          ]
        }
      ]
    },
    {
      "cell_type": "code",
      "source": [
        "from PIL import Image\n",
        "image_path = \"girl.jpg\"\n",
        "image = Image.open(image_path)\n",
        "response = model.generate_content([\"Decribe this image in detail.\", image])\n",
        "print(response.text)"
      ],
      "metadata": {
        "colab": {
          "base_uri": "https://localhost:8080/",
          "height": 263
        },
        "id": "KMKhHpF2ekqu",
        "outputId": "04843637-f40b-4ee7-e9e1-cf169dd94a57"
      },
      "execution_count": 18,
      "outputs": [
        {
          "output_type": "stream",
          "name": "stdout",
          "text": [
            "Here's a description of the image:\n",
            "\n",
            "Close-up view of a woman with shoulder-length, curly brown hair. \n",
            "\n",
            "\n",
            "She is light-skinned and has a warm, friendly expression with a slight smile. Her eyes are dark, and her makeup is subtle. She's wearing a teal-colored, three-quarter sleeve top or tunic with a subtle gold or light-yellow pattern throughout. The top has a simple, slightly V-necked neckline with a small button closure. \n",
            "\n",
            "\n",
            "The woman is gesturing with her right index finger, pointing to something off-camera to her left. Her arms are crossed, and one arm rests across her body, while the other arm is bent at the elbow with her pointer finger extended.\n",
            "\n",
            "\n",
            "The background is a plain, bright white, which keeps the focus entirely on the woman. The overall lighting is soft and even. The image gives a feeling of a friendly, casual portrait possibly for a website or advertisement.\n",
            "\n"
          ]
        }
      ]
    },
    {
      "cell_type": "code",
      "source": [
        "response = model.generate_content([\"What emotions can you detect in this image?\", image])\n",
        "print(response.text)"
      ],
      "metadata": {
        "colab": {
          "base_uri": "https://localhost:8080/",
          "height": 72
        },
        "id": "PpHO17d3gxUD",
        "outputId": "0749298f-6d0a-44bc-9f23-e3cfddc40a30"
      },
      "execution_count": 19,
      "outputs": [
        {
          "output_type": "stream",
          "name": "stdout",
          "text": [
            "The woman in the image appears to be expressing confidence and possibly excitement or helpfulness.  Her smile and the gesture of pointing suggest she's enthusiastic and wants to share something.  There's no indication of negative emotions.\n",
            "\n"
          ]
        }
      ]
    },
    {
      "cell_type": "code",
      "source": [
        "image_path = \"quote.jpg\"\n",
        "image = Image.open(image_path)\n",
        "\n",
        "response = model.generate_content([\"Extract and read the text from this image.\", image])\n",
        "print(response.text)"
      ],
      "metadata": {
        "colab": {
          "base_uri": "https://localhost:8080/",
          "height": 121
        },
        "id": "kMCKG28ihoFM",
        "outputId": "4212808b-775d-4f08-809e-37ffc3e34e1e"
      },
      "execution_count": 20,
      "outputs": [
        {
          "output_type": "stream",
          "name": "stdout",
          "text": [
            "Here's the text from the image:\n",
            "\n",
            "FAILURE is not the\n",
            "opposite of success\n",
            "it's PART OF\n",
            "SUCCESS\n"
          ]
        }
      ]
    }
  ]
}