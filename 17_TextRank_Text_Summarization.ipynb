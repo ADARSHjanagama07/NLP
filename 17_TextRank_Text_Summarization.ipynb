{
 "cells": [
  {
   "cell_type": "code",
   "execution_count": 1,
   "id": "ac77daa6-bcf1-4e40-a1aa-8fde3f733ab1",
   "metadata": {},
   "outputs": [
    {
     "name": "stdout",
     "output_type": "stream",
     "text": [
      "Collecting pytextrank\n",
      "  Downloading pytextrank-3.3.0-py3-none-any.whl.metadata (12 kB)\n",
      "Requirement already satisfied: GitPython>=3.1 in c:\\users\\adars\\anaconda3\\lib\\site-packages (from pytextrank) (3.1.43)\n",
      "Collecting graphviz>=0.13 (from pytextrank)\n",
      "  Downloading graphviz-0.20.3-py3-none-any.whl.metadata (12 kB)\n",
      "Collecting icecream>=2.1 (from pytextrank)\n",
      "  Downloading icecream-2.1.4-py3-none-any.whl.metadata (1.3 kB)\n",
      "Requirement already satisfied: networkx>=2.6 in c:\\users\\adars\\anaconda3\\lib\\site-packages (from networkx[default]>=2.6->pytextrank) (3.3)\n",
      "Requirement already satisfied: pygments>=2.7.4 in c:\\users\\adars\\anaconda3\\lib\\site-packages (from pytextrank) (2.15.1)\n",
      "Requirement already satisfied: scipy>=1.7 in c:\\users\\adars\\anaconda3\\lib\\site-packages (from pytextrank) (1.13.1)\n",
      "Requirement already satisfied: spacy>=3.0 in c:\\users\\adars\\anaconda3\\lib\\site-packages (from pytextrank) (3.8.4)\n",
      "Requirement already satisfied: gitdb<5,>=4.0.1 in c:\\users\\adars\\anaconda3\\lib\\site-packages (from GitPython>=3.1->pytextrank) (4.0.7)\n",
      "Requirement already satisfied: colorama>=0.3.9 in c:\\users\\adars\\anaconda3\\lib\\site-packages (from icecream>=2.1->pytextrank) (0.4.6)\n",
      "Collecting executing>=2.1.0 (from icecream>=2.1->pytextrank)\n",
      "  Downloading executing-2.2.0-py2.py3-none-any.whl.metadata (8.9 kB)\n",
      "Requirement already satisfied: asttokens>=2.0.1 in c:\\users\\adars\\anaconda3\\lib\\site-packages (from icecream>=2.1->pytextrank) (2.0.5)\n",
      "Requirement already satisfied: numpy>=1.23 in c:\\users\\adars\\anaconda3\\lib\\site-packages (from networkx[default]>=2.6->pytextrank) (1.26.4)\n",
      "Requirement already satisfied: matplotlib>=3.6 in c:\\users\\adars\\anaconda3\\lib\\site-packages (from networkx[default]>=2.6->pytextrank) (3.9.2)\n",
      "Requirement already satisfied: pandas>=1.4 in c:\\users\\adars\\anaconda3\\lib\\site-packages (from networkx[default]>=2.6->pytextrank) (2.2.2)\n",
      "Requirement already satisfied: spacy-legacy<3.1.0,>=3.0.11 in c:\\users\\adars\\anaconda3\\lib\\site-packages (from spacy>=3.0->pytextrank) (3.0.12)\n",
      "Requirement already satisfied: spacy-loggers<2.0.0,>=1.0.0 in c:\\users\\adars\\anaconda3\\lib\\site-packages (from spacy>=3.0->pytextrank) (1.0.5)\n",
      "Requirement already satisfied: murmurhash<1.1.0,>=0.28.0 in c:\\users\\adars\\anaconda3\\lib\\site-packages (from spacy>=3.0->pytextrank) (1.0.12)\n",
      "Requirement already satisfied: cymem<2.1.0,>=2.0.2 in c:\\users\\adars\\anaconda3\\lib\\site-packages (from spacy>=3.0->pytextrank) (2.0.11)\n",
      "Requirement already satisfied: preshed<3.1.0,>=3.0.2 in c:\\users\\adars\\anaconda3\\lib\\site-packages (from spacy>=3.0->pytextrank) (3.0.9)\n",
      "Requirement already satisfied: thinc<8.4.0,>=8.3.4 in c:\\users\\adars\\anaconda3\\lib\\site-packages (from spacy>=3.0->pytextrank) (8.3.4)\n",
      "Requirement already satisfied: wasabi<1.2.0,>=0.9.1 in c:\\users\\adars\\anaconda3\\lib\\site-packages (from spacy>=3.0->pytextrank) (1.1.3)\n",
      "Requirement already satisfied: srsly<3.0.0,>=2.4.3 in c:\\users\\adars\\anaconda3\\lib\\site-packages (from spacy>=3.0->pytextrank) (2.5.1)\n",
      "Requirement already satisfied: catalogue<2.1.0,>=2.0.6 in c:\\users\\adars\\anaconda3\\lib\\site-packages (from spacy>=3.0->pytextrank) (2.0.10)\n",
      "Requirement already satisfied: weasel<0.5.0,>=0.1.0 in c:\\users\\adars\\anaconda3\\lib\\site-packages (from spacy>=3.0->pytextrank) (0.4.1)\n",
      "Requirement already satisfied: typer<1.0.0,>=0.3.0 in c:\\users\\adars\\anaconda3\\lib\\site-packages (from spacy>=3.0->pytextrank) (0.9.0)\n",
      "Requirement already satisfied: tqdm<5.0.0,>=4.38.0 in c:\\users\\adars\\anaconda3\\lib\\site-packages (from spacy>=3.0->pytextrank) (4.66.5)\n",
      "Requirement already satisfied: requests<3.0.0,>=2.13.0 in c:\\users\\adars\\anaconda3\\lib\\site-packages (from spacy>=3.0->pytextrank) (2.32.3)\n",
      "Requirement already satisfied: pydantic!=1.8,!=1.8.1,<3.0.0,>=1.7.4 in c:\\users\\adars\\anaconda3\\lib\\site-packages (from spacy>=3.0->pytextrank) (2.8.2)\n",
      "Requirement already satisfied: jinja2 in c:\\users\\adars\\anaconda3\\lib\\site-packages (from spacy>=3.0->pytextrank) (3.1.4)\n",
      "Requirement already satisfied: setuptools in c:\\users\\adars\\anaconda3\\lib\\site-packages (from spacy>=3.0->pytextrank) (75.1.0)\n",
      "Requirement already satisfied: packaging>=20.0 in c:\\users\\adars\\anaconda3\\lib\\site-packages (from spacy>=3.0->pytextrank) (24.1)\n",
      "Requirement already satisfied: langcodes<4.0.0,>=3.2.0 in c:\\users\\adars\\anaconda3\\lib\\site-packages (from spacy>=3.0->pytextrank) (3.5.0)\n",
      "Requirement already satisfied: six in c:\\users\\adars\\anaconda3\\lib\\site-packages (from asttokens>=2.0.1->icecream>=2.1->pytextrank) (1.16.0)\n",
      "Requirement already satisfied: smmap<5,>=3.0.1 in c:\\users\\adars\\anaconda3\\lib\\site-packages (from gitdb<5,>=4.0.1->GitPython>=3.1->pytextrank) (4.0.0)\n",
      "Requirement already satisfied: language-data>=1.2 in c:\\users\\adars\\anaconda3\\lib\\site-packages (from langcodes<4.0.0,>=3.2.0->spacy>=3.0->pytextrank) (1.3.0)\n",
      "Requirement already satisfied: contourpy>=1.0.1 in c:\\users\\adars\\anaconda3\\lib\\site-packages (from matplotlib>=3.6->networkx[default]>=2.6->pytextrank) (1.2.0)\n",
      "Requirement already satisfied: cycler>=0.10 in c:\\users\\adars\\anaconda3\\lib\\site-packages (from matplotlib>=3.6->networkx[default]>=2.6->pytextrank) (0.11.0)\n",
      "Requirement already satisfied: fonttools>=4.22.0 in c:\\users\\adars\\anaconda3\\lib\\site-packages (from matplotlib>=3.6->networkx[default]>=2.6->pytextrank) (4.51.0)\n",
      "Requirement already satisfied: kiwisolver>=1.3.1 in c:\\users\\adars\\anaconda3\\lib\\site-packages (from matplotlib>=3.6->networkx[default]>=2.6->pytextrank) (1.4.4)\n",
      "Requirement already satisfied: pillow>=8 in c:\\users\\adars\\anaconda3\\lib\\site-packages (from matplotlib>=3.6->networkx[default]>=2.6->pytextrank) (10.4.0)\n",
      "Requirement already satisfied: pyparsing>=2.3.1 in c:\\users\\adars\\anaconda3\\lib\\site-packages (from matplotlib>=3.6->networkx[default]>=2.6->pytextrank) (3.1.2)\n",
      "Requirement already satisfied: python-dateutil>=2.7 in c:\\users\\adars\\anaconda3\\lib\\site-packages (from matplotlib>=3.6->networkx[default]>=2.6->pytextrank) (2.9.0.post0)\n",
      "Requirement already satisfied: pytz>=2020.1 in c:\\users\\adars\\anaconda3\\lib\\site-packages (from pandas>=1.4->networkx[default]>=2.6->pytextrank) (2024.1)\n",
      "Requirement already satisfied: tzdata>=2022.7 in c:\\users\\adars\\anaconda3\\lib\\site-packages (from pandas>=1.4->networkx[default]>=2.6->pytextrank) (2023.3)\n",
      "Requirement already satisfied: annotated-types>=0.4.0 in c:\\users\\adars\\anaconda3\\lib\\site-packages (from pydantic!=1.8,!=1.8.1,<3.0.0,>=1.7.4->spacy>=3.0->pytextrank) (0.6.0)\n",
      "Requirement already satisfied: pydantic-core==2.20.1 in c:\\users\\adars\\anaconda3\\lib\\site-packages (from pydantic!=1.8,!=1.8.1,<3.0.0,>=1.7.4->spacy>=3.0->pytextrank) (2.20.1)\n",
      "Requirement already satisfied: typing-extensions>=4.6.1 in c:\\users\\adars\\anaconda3\\lib\\site-packages (from pydantic!=1.8,!=1.8.1,<3.0.0,>=1.7.4->spacy>=3.0->pytextrank) (4.11.0)\n",
      "Requirement already satisfied: charset-normalizer<4,>=2 in c:\\users\\adars\\anaconda3\\lib\\site-packages (from requests<3.0.0,>=2.13.0->spacy>=3.0->pytextrank) (3.3.2)\n",
      "Requirement already satisfied: idna<4,>=2.5 in c:\\users\\adars\\anaconda3\\lib\\site-packages (from requests<3.0.0,>=2.13.0->spacy>=3.0->pytextrank) (3.7)\n",
      "Requirement already satisfied: urllib3<3,>=1.21.1 in c:\\users\\adars\\anaconda3\\lib\\site-packages (from requests<3.0.0,>=2.13.0->spacy>=3.0->pytextrank) (2.2.3)\n",
      "Requirement already satisfied: certifi>=2017.4.17 in c:\\users\\adars\\anaconda3\\lib\\site-packages (from requests<3.0.0,>=2.13.0->spacy>=3.0->pytextrank) (2024.12.14)\n",
      "Requirement already satisfied: blis<1.3.0,>=1.2.0 in c:\\users\\adars\\anaconda3\\lib\\site-packages (from thinc<8.4.0,>=8.3.4->spacy>=3.0->pytextrank) (1.2.0)\n",
      "Requirement already satisfied: confection<1.0.0,>=0.0.1 in c:\\users\\adars\\anaconda3\\lib\\site-packages (from thinc<8.4.0,>=8.3.4->spacy>=3.0->pytextrank) (0.1.5)\n",
      "Requirement already satisfied: click<9.0.0,>=7.1.1 in c:\\users\\adars\\anaconda3\\lib\\site-packages (from typer<1.0.0,>=0.3.0->spacy>=3.0->pytextrank) (8.1.7)\n",
      "Requirement already satisfied: cloudpathlib<1.0.0,>=0.7.0 in c:\\users\\adars\\anaconda3\\lib\\site-packages (from weasel<0.5.0,>=0.1.0->spacy>=3.0->pytextrank) (0.20.0)\n",
      "Requirement already satisfied: smart-open<8.0.0,>=5.2.1 in c:\\users\\adars\\anaconda3\\lib\\site-packages (from weasel<0.5.0,>=0.1.0->spacy>=3.0->pytextrank) (5.2.1)\n",
      "Requirement already satisfied: MarkupSafe>=2.0 in c:\\users\\adars\\anaconda3\\lib\\site-packages (from jinja2->spacy>=3.0->pytextrank) (2.1.3)\n",
      "Requirement already satisfied: marisa-trie>=1.1.0 in c:\\users\\adars\\anaconda3\\lib\\site-packages (from language-data>=1.2->langcodes<4.0.0,>=3.2.0->spacy>=3.0->pytextrank) (1.2.1)\n",
      "Downloading pytextrank-3.3.0-py3-none-any.whl (26 kB)\n",
      "Downloading graphviz-0.20.3-py3-none-any.whl (47 kB)\n",
      "Downloading icecream-2.1.4-py3-none-any.whl (14 kB)\n",
      "Downloading executing-2.2.0-py2.py3-none-any.whl (26 kB)\n",
      "Installing collected packages: graphviz, executing, icecream, pytextrank\n",
      "  Attempting uninstall: executing\n",
      "    Found existing installation: executing 0.8.3\n",
      "    Uninstalling executing-0.8.3:\n",
      "      Successfully uninstalled executing-0.8.3\n",
      "Successfully installed executing-2.2.0 graphviz-0.20.3 icecream-2.1.4 pytextrank-3.3.0\n"
     ]
    }
   ],
   "source": [
    "!pip install pytextrank"
   ]
  },
  {
   "cell_type": "code",
   "execution_count": 15,
   "id": "b1377cfe-c72c-43d5-85d0-99a98ef6b8b0",
   "metadata": {},
   "outputs": [
    {
     "name": "stdout",
     "output_type": "stream",
     "text": [
      "Collecting en-core-web-sm==3.8.0\n",
      "  Downloading https://github.com/explosion/spacy-models/releases/download/en_core_web_sm-3.8.0/en_core_web_sm-3.8.0-py3-none-any.whl (12.8 MB)\n",
      "     ---------------------------------------- 0.0/12.8 MB ? eta -:--:--\n",
      "      --------------------------------------- 0.3/12.8 MB ? eta -:--:--\n",
      "     -- ------------------------------------- 0.8/12.8 MB 2.2 MB/s eta 0:00:06\n",
      "     --- ------------------------------------ 1.0/12.8 MB 2.2 MB/s eta 0:00:06\n",
      "     ---- ----------------------------------- 1.3/12.8 MB 1.9 MB/s eta 0:00:06\n",
      "     ---- ----------------------------------- 1.3/12.8 MB 1.9 MB/s eta 0:00:06\n",
      "     ---- ----------------------------------- 1.6/12.8 MB 1.3 MB/s eta 0:00:09\n",
      "     ---- ----------------------------------- 1.6/12.8 MB 1.3 MB/s eta 0:00:09\n",
      "     ---- ----------------------------------- 1.6/12.8 MB 1.3 MB/s eta 0:00:09\n",
      "     ---- ----------------------------------- 1.6/12.8 MB 1.3 MB/s eta 0:00:09\n",
      "     ---- ----------------------------------- 1.6/12.8 MB 1.3 MB/s eta 0:00:09\n",
      "     ---- ----------------------------------- 1.6/12.8 MB 1.3 MB/s eta 0:00:09\n",
      "     ----- --------------------------------- 1.8/12.8 MB 699.0 kB/s eta 0:00:16\n",
      "     ----- --------------------------------- 1.8/12.8 MB 699.0 kB/s eta 0:00:16\n",
      "     ------ -------------------------------- 2.1/12.8 MB 648.9 kB/s eta 0:00:17\n",
      "     ------ -------------------------------- 2.1/12.8 MB 648.9 kB/s eta 0:00:17\n",
      "     ------- ------------------------------- 2.4/12.8 MB 661.1 kB/s eta 0:00:16\n",
      "     ------- ------------------------------- 2.6/12.8 MB 677.0 kB/s eta 0:00:16\n",
      "     ------- ------------------------------- 2.6/12.8 MB 677.0 kB/s eta 0:00:16\n",
      "     ------- ------------------------------- 2.6/12.8 MB 677.0 kB/s eta 0:00:16\n",
      "     ------- ------------------------------- 2.6/12.8 MB 677.0 kB/s eta 0:00:16\n",
      "     -------- ------------------------------ 2.9/12.8 MB 605.7 kB/s eta 0:00:17\n",
      "     -------- ------------------------------ 2.9/12.8 MB 605.7 kB/s eta 0:00:17\n",
      "     -------- ------------------------------ 2.9/12.8 MB 605.7 kB/s eta 0:00:17\n",
      "     -------- ------------------------------ 2.9/12.8 MB 605.7 kB/s eta 0:00:17\n",
      "     --------- ----------------------------- 3.1/12.8 MB 564.3 kB/s eta 0:00:18\n",
      "     --------- ----------------------------- 3.1/12.8 MB 564.3 kB/s eta 0:00:18\n",
      "     --------- ----------------------------- 3.1/12.8 MB 564.3 kB/s eta 0:00:18\n",
      "     ---------- ---------------------------- 3.4/12.8 MB 539.8 kB/s eta 0:00:18\n",
      "     ---------- ---------------------------- 3.4/12.8 MB 539.8 kB/s eta 0:00:18\n",
      "     ----------- --------------------------- 3.7/12.8 MB 537.2 kB/s eta 0:00:18\n",
      "     ----------- --------------------------- 3.7/12.8 MB 537.2 kB/s eta 0:00:18\n",
      "     ----------- --------------------------- 3.7/12.8 MB 537.2 kB/s eta 0:00:18\n",
      "     ----------- --------------------------- 3.9/12.8 MB 526.6 kB/s eta 0:00:17\n",
      "     ----------- --------------------------- 3.9/12.8 MB 526.6 kB/s eta 0:00:17\n",
      "     ----------- --------------------------- 3.9/12.8 MB 526.6 kB/s eta 0:00:17\n",
      "     ------------ -------------------------- 4.2/12.8 MB 512.5 kB/s eta 0:00:17\n",
      "     ------------ -------------------------- 4.2/12.8 MB 512.5 kB/s eta 0:00:17\n",
      "     ------------ -------------------------- 4.2/12.8 MB 512.5 kB/s eta 0:00:17\n",
      "     ------------ -------------------------- 4.2/12.8 MB 512.5 kB/s eta 0:00:17\n",
      "     ------------ -------------------------- 4.2/12.8 MB 512.5 kB/s eta 0:00:17\n",
      "     ------------- ------------------------- 4.5/12.8 MB 479.3 kB/s eta 0:00:18\n",
      "     ------------- ------------------------- 4.5/12.8 MB 479.3 kB/s eta 0:00:18\n",
      "     ------------- ------------------------- 4.5/12.8 MB 479.3 kB/s eta 0:00:18\n",
      "     ------------- ------------------------- 4.5/12.8 MB 479.3 kB/s eta 0:00:18\n",
      "     ------------- ------------------------- 4.5/12.8 MB 479.3 kB/s eta 0:00:18\n",
      "     ------------- ------------------------- 4.5/12.8 MB 479.3 kB/s eta 0:00:18\n",
      "     -------------- ------------------------ 4.7/12.8 MB 444.2 kB/s eta 0:00:19\n",
      "     -------------- ------------------------ 4.7/12.8 MB 444.2 kB/s eta 0:00:19\n",
      "     --------------- ----------------------- 5.0/12.8 MB 453.4 kB/s eta 0:00:18\n",
      "     --------------- ----------------------- 5.0/12.8 MB 453.4 kB/s eta 0:00:18\n",
      "     --------------- ----------------------- 5.2/12.8 MB 458.6 kB/s eta 0:00:17\n",
      "     --------------- ----------------------- 5.2/12.8 MB 458.6 kB/s eta 0:00:17\n",
      "     --------------- ----------------------- 5.2/12.8 MB 458.6 kB/s eta 0:00:17\n",
      "     --------------- ----------------------- 5.2/12.8 MB 458.6 kB/s eta 0:00:17\n",
      "     ---------------- ---------------------- 5.5/12.8 MB 451.6 kB/s eta 0:00:17\n",
      "     ----------------- --------------------- 5.8/12.8 MB 459.9 kB/s eta 0:00:16\n",
      "     ----------------- --------------------- 5.8/12.8 MB 459.9 kB/s eta 0:00:16\n",
      "     ------------------ -------------------- 6.0/12.8 MB 469.0 kB/s eta 0:00:15\n",
      "     ------------------- ------------------- 6.3/12.8 MB 477.6 kB/s eta 0:00:14\n",
      "     ------------------- ------------------- 6.6/12.8 MB 488.7 kB/s eta 0:00:13\n",
      "     -------------------- ------------------ 6.8/12.8 MB 501.1 kB/s eta 0:00:12\n",
      "     --------------------- ----------------- 7.1/12.8 MB 514.4 kB/s eta 0:00:12\n",
      "     ---------------------- ---------------- 7.3/12.8 MB 527.9 kB/s eta 0:00:11\n",
      "     ----------------------- --------------- 7.6/12.8 MB 539.3 kB/s eta 0:00:10\n",
      "     ----------------------- --------------- 7.9/12.8 MB 545.4 kB/s eta 0:00:10\n",
      "     ----------------------- --------------- 7.9/12.8 MB 545.4 kB/s eta 0:00:10\n",
      "     ------------------------ -------------- 8.1/12.8 MB 547.7 kB/s eta 0:00:09\n",
      "     ------------------------ -------------- 8.1/12.8 MB 547.7 kB/s eta 0:00:09\n",
      "     ------------------------ -------------- 8.1/12.8 MB 547.7 kB/s eta 0:00:09\n",
      "     ------------------------- ------------- 8.4/12.8 MB 544.0 kB/s eta 0:00:09\n",
      "     ------------------------- ------------- 8.4/12.8 MB 544.0 kB/s eta 0:00:09\n",
      "     -------------------------- ------------ 8.7/12.8 MB 545.0 kB/s eta 0:00:08\n",
      "     -------------------------- ------------ 8.7/12.8 MB 545.0 kB/s eta 0:00:08\n",
      "     --------------------------- ----------- 8.9/12.8 MB 548.7 kB/s eta 0:00:08\n",
      "     --------------------------- ----------- 9.2/12.8 MB 551.6 kB/s eta 0:00:07\n",
      "     --------------------------- ----------- 9.2/12.8 MB 551.6 kB/s eta 0:00:07\n",
      "     --------------------------- ----------- 9.2/12.8 MB 551.6 kB/s eta 0:00:07\n",
      "     ---------------------------- ---------- 9.4/12.8 MB 552.4 kB/s eta 0:00:07\n",
      "     ----------------------------- --------- 9.7/12.8 MB 557.7 kB/s eta 0:00:06\n",
      "     ----------------------------- -------- 10.0/12.8 MB 563.3 kB/s eta 0:00:06\n",
      "     ----------------------------- -------- 10.0/12.8 MB 563.3 kB/s eta 0:00:06\n",
      "     ------------------------------ ------- 10.2/12.8 MB 563.2 kB/s eta 0:00:05\n",
      "     ------------------------------ ------- 10.2/12.8 MB 563.2 kB/s eta 0:00:05\n",
      "     ------------------------------- ------ 10.5/12.8 MB 564.5 kB/s eta 0:00:05\n",
      "     ------------------------------- ------ 10.5/12.8 MB 564.5 kB/s eta 0:00:05\n",
      "     ------------------------------- ------ 10.7/12.8 MB 570.2 kB/s eta 0:00:04\n",
      "     -------------------------------- ----- 11.0/12.8 MB 576.6 kB/s eta 0:00:04\n",
      "     --------------------------------- ---- 11.3/12.8 MB 582.3 kB/s eta 0:00:03\n",
      "     ---------------------------------- --- 11.5/12.8 MB 588.0 kB/s eta 0:00:03\n",
      "     ---------------------------------- --- 11.5/12.8 MB 588.0 kB/s eta 0:00:03\n",
      "     ----------------------------------- -- 11.8/12.8 MB 592.4 kB/s eta 0:00:02\n",
      "     ----------------------------------- -- 12.1/12.8 MB 597.7 kB/s eta 0:00:02\n",
      "     ------------------------------------ - 12.3/12.8 MB 603.9 kB/s eta 0:00:01\n",
      "     -------------------------------------  12.6/12.8 MB 608.9 kB/s eta 0:00:01\n",
      "     -------------------------------------- 12.8/12.8 MB 612.3 kB/s eta 0:00:00\n",
      "\u001b[38;5;2m[+] Download and installation successful\u001b[0m\n",
      "You can now load the package via spacy.load('en_core_web_sm')\n"
     ]
    }
   ],
   "source": [
    "!python -m spacy download en_core_web_sm"
   ]
  },
  {
   "cell_type": "code",
   "execution_count": 37,
   "id": "b7221f87-e111-4d35-8691-1e143799217f",
   "metadata": {},
   "outputs": [],
   "source": [
    "import spacy\n",
    "import pytextrank"
   ]
  },
  {
   "cell_type": "code",
   "execution_count": 39,
   "id": "6b29a1be-7006-48eb-839f-03f18e16e1e1",
   "metadata": {},
   "outputs": [],
   "source": [
    "document = \"\"\"Not only did it only confirm that the film would be unfunny and generic,but it also managed to give away the ENTIRE movie; and I'm not exaggerating - every moment, every plot point, every joke is told in the trailer.\"\"\""
   ]
  },
  {
   "cell_type": "code",
   "execution_count": 41,
   "id": "4069b50f-60e6-486c-867b-b3e3cd1df76f",
   "metadata": {},
   "outputs": [],
   "source": [
    "en_nlp = spacy.load(\"en_core_web_sm\")\n",
    "en_nlp.add_pipe(\"textrank\")\n",
    "doc = en_nlp(document)"
   ]
  },
  {
   "cell_type": "code",
   "execution_count": 42,
   "id": "8952bcee-5580-4f55-810c-8f6c9fd6421e",
   "metadata": {},
   "outputs": [
    {
     "name": "stdout",
     "output_type": "stream",
     "text": [
      "9.479522705078125\n"
     ]
    }
   ],
   "source": [
    "tr = doc._.textrank\n",
    "print(tr.elapsed_time)"
   ]
  },
  {
   "cell_type": "code",
   "execution_count": 43,
   "id": "97b34230-5637-42ab-adc9-21fb58b44e80",
   "metadata": {},
   "outputs": [
    {
     "name": "stdout",
     "output_type": "stream",
     "text": [
      "ENTIRE 0.13514348101679782 1\n",
      "the ENTIRE movie 0.09548608913294183 1\n",
      "every joke 0.05936552514177136 1\n",
      "the film 0.05423292745389326 1\n",
      "the trailer 0.04834919915077192 1\n",
      "I 0.0 1\n",
      "it 0.0 2\n"
     ]
    }
   ],
   "source": [
    "for combination in doc._.phrases:\n",
    "    print(combination.text, combination.rank, combination.count)"
   ]
  },
  {
   "cell_type": "code",
   "execution_count": 47,
   "id": "0c06277d-8d28-44bb-843c-3486d0d74a05",
   "metadata": {},
   "outputs": [],
   "source": [
    "from bs4 import BeautifulSoup\n",
    "from urllib.request import urlopen"
   ]
  },
  {
   "cell_type": "code",
   "execution_count": 49,
   "id": "cb44c17d-ee3b-4307-90f9-f7b9bc957363",
   "metadata": {},
   "outputs": [],
   "source": [
    "def get_only_text(url):\n",
    "    page = urlopen(url)\n",
    "    soup = BeautifulSoup(page)\n",
    "    text = '\\t'.join(map(lambda p: p.text, soup.find_all('p')))\n",
    "    print (text)\n",
    "    return soup.title.text, text"
   ]
  },
  {
   "cell_type": "code",
   "execution_count": 51,
   "id": "b81b5e0f-208f-454e-adb2-88ca411d8d9b",
   "metadata": {},
   "outputs": [
    {
     "name": "stdout",
     "output_type": "stream",
     "text": [
      "Natural language processing (NLP) is a subfield of computer science and especially artificial intelligence. It is primarily concerned with providing computers with the ability to process data encoded in natural language and is thus closely related to information retrieval, knowledge representation and computational linguistics, a subfield of linguistics. Typically data is collected in text corpora, using either rule-based, statistical or neural-based approaches in machine learning and deep learning.\n",
      "\tMajor tasks in natural language processing are speech recognition, text classification, natural-language understanding, and natural-language generation.\n",
      "\tNatural language processing has its roots in the 1950s.[1] Already in 1950, Alan Turing published an article titled \"Computing Machinery and Intelligence\" which proposed what is now called the Turing test as a criterion of intelligence, though at the time that was not articulated as a problem separate from artificial intelligence. The proposed test includes a task that involves the automated interpretation and generation of natural language.\n",
      "\tThe premise of symbolic NLP is well-summarized by John Searle's Chinese room experiment: Given a collection of rules (e.g., a Chinese phrasebook, with questions and matching answers), the computer emulates natural language understanding (or other NLP tasks) by applying those rules to the data it confronts.\n",
      "\tUp until the 1980s, most natural language processing systems were based on complex sets of hand-written rules.  Starting in the late 1980s, however, there was a revolution in natural language processing with the introduction of machine learning algorithms for language processing.  This was due to both the steady increase in computational power (see Moore's law) and the gradual lessening of the dominance of Chomskyan theories of linguistics (e.g. transformational grammar), whose theoretical underpinnings discouraged the sort of corpus linguistics that underlies the machine-learning approach to language processing.[8]\n",
      "\tSymbolic approach, i.e., the hand-coding of a set of rules for manipulating symbols, coupled with a dictionary lookup, was historically the first approach used both by AI in general and by NLP in particular:[18][19] such as by writing grammars or devising heuristic rules for stemming.\n",
      "\tMachine learning approaches, which include both statistical and neural networks, on the other hand, have many advantages over the symbolic approach: \n",
      "\tAlthough rule-based systems for manipulating symbols were still in use in 2020, they have become mostly obsolete with the advance of LLMs in 2023. \n",
      "\tBefore that they were commonly used:\n",
      "\tIn the late 1980s and mid-1990s, the statistical approach ended a period of AI winter, which was caused by the inefficiencies of the rule-based approaches.[20][21]\n",
      "\tThe earliest decision trees, producing systems of hard if–then rules, were still very similar to the old rule-based approaches.\n",
      "Only the introduction of hidden Markov models, applied to part-of-speech tagging, announced the end of the old rule-based approach.\n",
      "\tA major drawback of statistical methods is that they require elaborate feature engineering. Since 2015,[22] the statistical approach has been replaced by the neural networks approach, using semantic networks[23] and word embeddings to capture semantic properties of words.  \n",
      "\tIntermediate tasks (e.g., part-of-speech tagging and dependency parsing) are not needed anymore. \n",
      "\tNeural machine translation, based on then-newly invented sequence-to-sequence transformations, made obsolete the intermediate steps, such as word alignment, previously necessary for statistical machine translation.\n",
      "\tThe following is a list of some of the most commonly researched tasks in natural language processing. Some of these tasks have direct real-world applications, while others more commonly serve as subtasks that are used to aid in solving larger tasks.\n",
      "\tThough natural language processing tasks are closely intertwined, they can be subdivided into categories for convenience. A coarse division is given below.\n",
      "\tBased on long-standing trends in the field, it is possible to extrapolate future directions of NLP. As of 2020, three trends among the topics of the long-standing series of CoNLL Shared Tasks can be observed:[46]\n",
      "\tMost higher-level NLP applications involve aspects that emulate intelligent behaviour and apparent comprehension of natural language. More broadly speaking, the technical operationalization of increasingly advanced aspects of cognitive behaviour represents one of the developmental trajectories of NLP (see trends among CoNLL shared tasks above).\n",
      "\tCognition refers to \"the mental action or process of acquiring knowledge and understanding through thought, experience, and the senses.\"[47] Cognitive science is the interdisciplinary, scientific study of the mind and its processes.[48] Cognitive linguistics is an interdisciplinary branch of linguistics, combining knowledge and research from both psychology and linguistics.[49] Especially during the age of symbolic NLP, the area of computational linguistics maintained strong ties with cognitive studies.\n",
      "\tAs an example, George Lakoff offers a methodology to build natural language processing (NLP) algorithms through the perspective of cognitive science, along with the findings of cognitive linguistics,[50] with two defining aspects:\n",
      "\tTies with cognitive linguistics are part of the historical heritage of NLP, but they have been less frequently addressed since the statistical turn during the 1990s. Nevertheless, approaches to develop cognitive models towards technically operationalizable frameworks have been pursued in the context of various frameworks, e.g., of cognitive grammar,[53] functional grammar,[54] construction grammar,[55] computational psycholinguistics and cognitive neuroscience (e.g., ACT-R), however, with limited uptake in mainstream NLP (as measured by presence on major conferences[56] of the ACL). More recently, ideas of cognitive NLP have been revived as an approach to achieve explainability, e.g., under the notion of \"cognitive AI\".[57] Likewise, ideas of cognitive NLP are inherent to neural models multimodal NLP (although rarely made explicit)[58] and developments in artificial intelligence, specifically tools and technologies using large language model approaches[59] and new directions in artificial general intelligence based on the free energy principle[60] by British neuroscientist and theoretician at University College London Karl J. Friston.\n",
      "\n"
     ]
    }
   ],
   "source": [
    "url=\"https://en.wikipedia.org/wiki/Natural_language_processing\"\n",
    "text = get_only_text(url)"
   ]
  },
  {
   "cell_type": "code",
   "execution_count": 53,
   "id": "0964949e-fe2c-4ded-9d6d-6d41cc007346",
   "metadata": {},
   "outputs": [
    {
     "data": {
      "text/plain": [
       "6587"
      ]
     },
     "execution_count": 53,
     "metadata": {},
     "output_type": "execute_result"
    }
   ],
   "source": [
    "len(''.join(text))"
   ]
  },
  {
   "cell_type": "code",
   "execution_count": 55,
   "id": "6b5e3ed3-5811-4e55-a965-ae40df974ede",
   "metadata": {},
   "outputs": [
    {
     "data": {
      "text/plain": [
       "('Natural language processing - Wikipedia',\n",
       " 'Natural language processing (NLP) is a subfield of computer science and especially artificial intelligence. It is primarily concerned with providing computers with the ability to process data encoded in natural language and is thus closely related to information retrieval, knowledge representation and computational linguistics, a subfield of linguistics. Typically data is collected in text corpora, using either rule-based, statistical or neural-based approaches in machine learning and deep learning.\\n\\tMajor tasks in natural language processing are speech recognition, text classification, natural-language understanding, and natural-language generation.\\n\\tNatural language processing has its roots in the 1950s.[1] Already in 1950, Alan Turing published an article titled \"Computing Machinery and Intelligence\" which proposed what is now called the Turing test as a criterion of intelligence, though at the time that was not articulated as a problem separate from artificial intelligence. The proposed test includes a task that involves the automated interpretation and generation of natural language.\\n\\tThe premise of symbolic NLP is well-summarized by John Searle\\'s Chinese room experiment: Given a collection of rules (e.g., a Chinese phrasebook, with questions and matching answers), the computer emulates natural language understanding (or other NLP tasks) by applying those rules to the data it confronts.\\n\\tUp until the 1980s, most natural language processing systems were based on complex sets of hand-written rules.  Starting in the late 1980s, however, there was a revolution in natural language processing with the introduction of machine learning algorithms for language processing.  This was due to both the steady increase in computational power (see Moore\\'s law) and the gradual lessening of the dominance of Chomskyan theories of linguistics (e.g. transformational grammar), whose theoretical underpinnings discouraged the sort of corpus linguistics that underlies the machine-learning approach to language processing.[8]\\n\\tSymbolic approach, i.e., the hand-coding of a set of rules for manipulating symbols, coupled with a dictionary lookup, was historically the first approach used both by AI in general and by NLP in particular:[18][19] such as by writing grammars or devising heuristic rules for stemming.\\n\\tMachine learning approaches, which include both statistical and neural networks, on the other hand, have many advantages over the symbolic approach: \\n\\tAlthough rule-based systems for manipulating symbols were still in use in 2020, they have become mostly obsolete with the advance of LLMs in 2023. \\n\\tBefore that they were commonly used:\\n\\tIn the late 1980s and mid-1990s, the statistical approach ended a period of AI winter, which was caused by the inefficiencies of the rule-based approaches.[20][21]\\n\\tThe earliest decision trees, producing systems of hard if–then rules, were still very similar to the old rule-based approaches.\\nOnly the introduction of hidden Markov models, applied to part-of-speech tagging, announced the end of the old rule-based approach.\\n\\tA major drawback of statistical methods is that they require elaborate feature engineering. Since 2015,[22] the statistical approach has been replaced by the neural networks approach, using semantic networks[23] and word embeddings to capture semantic properties of words.  \\n\\tIntermediate tasks (e.g., part-of-speech tagging and dependency parsing) are not needed anymore. \\n\\tNeural machine translation, based on then-newly invented sequence-to-sequence transformations, made obsolete the intermediate steps, such as word alignment, previously necessary for statistical machine translation.\\n\\tThe following is a list of some of the most commonly researched tasks in natural language processing. Some of these tasks have direct real-world applications, while others more commonly serve as subtasks that are used to aid in solving larger tasks.\\n\\tThough natural language processing tasks are closely intertwined, they can be subdivided into categories for convenience. A coarse division is given below.\\n\\tBased on long-standing trends in the field, it is possible to extrapolate future directions of NLP. As of 2020, three trends among the topics of the long-standing series of CoNLL Shared Tasks can be observed:[46]\\n\\tMost higher-level NLP applications involve aspects that emulate intelligent behaviour and apparent comprehension of natural language. More broadly speaking, the technical operationalization of increasingly advanced aspects of cognitive behaviour represents one of the developmental trajectories of NLP (see trends among CoNLL shared tasks above).\\n\\tCognition refers to \"the mental action or process of acquiring knowledge and understanding through thought, experience, and the senses.\"[47] Cognitive science is the interdisciplinary, scientific study of the mind and its processes.[48] Cognitive linguistics is an interdisciplinary branch of linguistics, combining knowledge and research from both psychology and linguistics.[49] Especially during the age of symbolic NLP, the area of computational linguistics maintained strong ties with cognitive studies.\\n\\tAs an example, George Lakoff offers a methodology to build natural language processing (NLP) algorithms through the perspective of cognitive science, along with the findings of cognitive linguistics,[50] with two defining aspects:\\n\\tTies with cognitive linguistics are part of the historical heritage of NLP, but they have been less frequently addressed since the statistical turn during the 1990s. Nevertheless, approaches to develop cognitive models towards technically operationalizable frameworks have been pursued in the context of various frameworks, e.g., of cognitive grammar,[53] functional grammar,[54] construction grammar,[55] computational psycholinguistics and cognitive neuroscience (e.g., ACT-R), however, with limited uptake in mainstream NLP (as measured by presence on major conferences[56] of the ACL). More recently, ideas of cognitive NLP have been revived as an approach to achieve explainability, e.g., under the notion of \"cognitive AI\".[57] Likewise, ideas of cognitive NLP are inherent to neural models multimodal NLP (although rarely made explicit)[58] and developments in artificial intelligence, specifically tools and technologies using large language model approaches[59] and new directions in artificial general intelligence based on the free energy principle[60] by British neuroscientist and theoretician at University College London Karl J. Friston.\\n')"
      ]
     },
     "execution_count": 55,
     "metadata": {},
     "output_type": "execute_result"
    }
   ],
   "source": [
    "text[:1000]"
   ]
  },
  {
   "cell_type": "code",
   "execution_count": 58,
   "id": "1d29c967-c312-4680-977b-a42b052c837d",
   "metadata": {},
   "outputs": [
    {
     "name": "stdout",
     "output_type": "stream",
     "text": [
      "Requirement already satisfied: sumy in c:\\users\\adars\\anaconda3\\lib\\site-packages (0.11.0)\n",
      "Requirement already satisfied: docopt<0.7,>=0.6.1 in c:\\users\\adars\\anaconda3\\lib\\site-packages (from sumy) (0.6.2)\n",
      "Requirement already satisfied: breadability>=0.1.20 in c:\\users\\adars\\anaconda3\\lib\\site-packages (from sumy) (0.1.20)\n",
      "Requirement already satisfied: requests>=2.7.0 in c:\\users\\adars\\anaconda3\\lib\\site-packages (from sumy) (2.32.3)\n",
      "Requirement already satisfied: pycountry>=18.2.23 in c:\\users\\adars\\anaconda3\\lib\\site-packages (from sumy) (24.6.1)\n",
      "Requirement already satisfied: nltk>=3.0.2 in c:\\users\\adars\\anaconda3\\lib\\site-packages (from sumy) (3.9.1)\n",
      "Requirement already satisfied: chardet in c:\\users\\adars\\anaconda3\\lib\\site-packages (from breadability>=0.1.20->sumy) (4.0.0)\n",
      "Requirement already satisfied: lxml>=2.0 in c:\\users\\adars\\anaconda3\\lib\\site-packages (from breadability>=0.1.20->sumy) (5.2.1)\n",
      "Requirement already satisfied: click in c:\\users\\adars\\anaconda3\\lib\\site-packages (from nltk>=3.0.2->sumy) (8.1.7)\n",
      "Requirement already satisfied: joblib in c:\\users\\adars\\anaconda3\\lib\\site-packages (from nltk>=3.0.2->sumy) (1.4.2)\n",
      "Requirement already satisfied: regex>=2021.8.3 in c:\\users\\adars\\anaconda3\\lib\\site-packages (from nltk>=3.0.2->sumy) (2024.9.11)\n",
      "Requirement already satisfied: tqdm in c:\\users\\adars\\anaconda3\\lib\\site-packages (from nltk>=3.0.2->sumy) (4.66.5)\n",
      "Requirement already satisfied: charset-normalizer<4,>=2 in c:\\users\\adars\\anaconda3\\lib\\site-packages (from requests>=2.7.0->sumy) (3.3.2)\n",
      "Requirement already satisfied: idna<4,>=2.5 in c:\\users\\adars\\anaconda3\\lib\\site-packages (from requests>=2.7.0->sumy) (3.7)\n",
      "Requirement already satisfied: urllib3<3,>=1.21.1 in c:\\users\\adars\\anaconda3\\lib\\site-packages (from requests>=2.7.0->sumy) (2.2.3)\n",
      "Requirement already satisfied: certifi>=2017.4.17 in c:\\users\\adars\\anaconda3\\lib\\site-packages (from requests>=2.7.0->sumy) (2024.12.14)\n",
      "Requirement already satisfied: colorama in c:\\users\\adars\\anaconda3\\lib\\site-packages (from click->nltk>=3.0.2->sumy) (0.4.6)\n"
     ]
    }
   ],
   "source": [
    "!pip install sumy"
   ]
  },
  {
   "cell_type": "code",
   "execution_count": 78,
   "id": "e4f718e5-4a2d-4fd2-a79a-0526ef58ac93",
   "metadata": {},
   "outputs": [
    {
     "name": "stdout",
     "output_type": "stream",
     "text": [
      "Requirement already satisfied: lxml_html_clean in c:\\users\\adars\\anaconda3\\lib\\site-packages (0.4.1)\n",
      "Requirement already satisfied: lxml in c:\\users\\adars\\anaconda3\\lib\\site-packages (from lxml_html_clean) (5.2.1)\n"
     ]
    }
   ],
   "source": [
    "!pip install lxml_html_clean"
   ]
  },
  {
   "cell_type": "code",
   "execution_count": null,
   "id": "b7f9f70a-d660-4129-a91e-da9842d5d4a4",
   "metadata": {},
   "outputs": [],
   "source": [
    "parser = PlaintextParser"
   ]
  },
  {
   "cell_type": "code",
   "execution_count": null,
   "id": "0b3492f6-3879-48b4-9e87-18f2f206fb17",
   "metadata": {},
   "outputs": [],
   "source": [
    "from sumy.summarizers.lex_rank import LexRankSummarizer\n",
    "from sumy.utils import get_stop_words\n",
    "summarizer_lex = LexRankSummarizer()\n",
    "\n",
    "summmarizer_lex.stop_words = get_stop_words(\"english\")\n",
    "summary= summarizer_lex(parser.document, 5)\n",
    "lex_summary=\"\"\n",
    "for sentence in summary:\n",
    "    lex_summary+=str(sentence)\n",
    "    print(lex_summary)"
   ]
  }
 ],
 "metadata": {
  "kernelspec": {
   "display_name": "Python [conda env:base] *",
   "language": "python",
   "name": "conda-base-py"
  },
  "language_info": {
   "codemirror_mode": {
    "name": "ipython",
    "version": 3
   },
   "file_extension": ".py",
   "mimetype": "text/x-python",
   "name": "python",
   "nbconvert_exporter": "python",
   "pygments_lexer": "ipython3",
   "version": "3.12.7"
  }
 },
 "nbformat": 4,
 "nbformat_minor": 5
}
