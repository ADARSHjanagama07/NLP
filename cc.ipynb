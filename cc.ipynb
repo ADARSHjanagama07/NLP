{
 "cells": [
  {
   "cell_type": "code",
   "execution_count": null,
   "id": "7d027a2d-91c1-45a4-9a89-0359db441d07",
   "metadata": {},
   "outputs": [],
   "source": [
    "what is cloud compting?\n",
    "Cloud computing is the delivery of computing services—such as storage, processing power, databases, networking, software, and analytics—over the internet, rather than from a local server or personal computer. Essentially, it allows businesses and individuals to access and use computing resources on-demand without having to own and maintain physical hardware.\n",
    "\n",
    "There are several key aspects of cloud computing:\n",
    "\n",
    "1. **On-demand self-service**: Users can provision and manage resources as needed without requiring human intervention from the service provider.\n",
    "\n",
    "2. **Broad network access**: Cloud services are available over the internet and can be accessed from a variety of devices (like smartphones, tablets, and laptops).\n",
    "\n",
    "3. **Resource pooling**: Cloud providers use multi-tenant models to pool resources and allocate them dynamically to different users based on demand.\n",
    "\n",
    "4. **Rapid elasticity**: Cloud services can quickly scale up or down to accommodate changing workloads, ensuring efficient resource usage.\n",
    "\n",
    "5. **Measured service**: Cloud computing resources are typically billed based on usage, so users only pay for what they actually use.\n",
    "\n",
    "Some popular examples of cloud computing providers are Amazon Web Services (AWS), Microsoft Azure, and Google Cloud.\n",
    "\n",
    "Cloud computing comes in different models:\n",
    "\n",
    "- **Public Cloud**: Services are delivered over the public internet and shared across multiple organizations.\n",
    "- **Private Cloud**: Services are maintained on a private network, typically for a single organization.\n",
    "- **Hybrid Cloud**: A mix of both public and private cloud resources, offering flexibility and optimization.\n",
    "\n",
    "It enables businesses to focus on their core operations without worrying about managing infrastructure and hardware."
   ]
  },
  {
   "cell_type": "code",
   "execution_count": null,
   "id": "ff346a26-90ac-47a5-bd0f-343058207c5f",
   "metadata": {},
   "outputs": [],
   "source": []
  }
 ],
 "metadata": {
  "kernelspec": {
   "display_name": "Python [conda env:base] *",
   "language": "python",
   "name": "conda-base-py"
  },
  "language_info": {
   "codemirror_mode": {
    "name": "ipython",
    "version": 3
   },
   "file_extension": ".py",
   "mimetype": "text/x-python",
   "name": "python",
   "nbconvert_exporter": "python",
   "pygments_lexer": "ipython3",
   "version": "3.12.7"
  }
 },
 "nbformat": 4,
 "nbformat_minor": 5
}
